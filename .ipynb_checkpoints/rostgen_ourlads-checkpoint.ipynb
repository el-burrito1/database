{
 "cells": [
  {
   "cell_type": "code",
   "execution_count": 704,
   "metadata": {
    "collapsed": true
   },
   "outputs": [],
   "source": [
    "import urllib2\n",
    "import pandas as pd"
   ]
  },
  {
   "cell_type": "code",
   "execution_count": 841,
   "metadata": {
    "collapsed": true
   },
   "outputs": [],
   "source": [
    "roster = 'http://www.ourlads.com/ncaa-football-depth-charts/roster/troy/92108'"
   ]
  },
  {
   "cell_type": "code",
   "execution_count": 842,
   "metadata": {
    "collapsed": true
   },
   "outputs": [],
   "source": [
    "page = urllib2.urlopen(roster)\n",
    "from bs4 import BeautifulSoup\n",
    "soup = BeautifulSoup(page)\n",
    "players = soup.find_all('tr' , class_=['row-dc-wht','row-dc-grey'])"
   ]
  },
  {
   "cell_type": "code",
   "execution_count": 843,
   "metadata": {
    "collapsed": false
   },
   "outputs": [
    {
     "data": {
      "text/plain": [
       "<tr class=\"row-dc-wht\"><td class=\"text-left\"><a class=\"\" href=\"http://www.ourlads.com/ncaa-football-depth-charts/player/josh-anderson/103044\">Anderson, Josh</a></td><td class=\"row-dc-wht\">33</td><td>RB</td><td>5110</td><td>250</td><td>SR</td><td>South Paulding</td><td>Douglasville, Ga.</td></tr>"
      ]
     },
     "execution_count": 843,
     "metadata": {},
     "output_type": "execute_result"
    }
   ],
   "source": [
    "players[0]"
   ]
  },
  {
   "cell_type": "code",
   "execution_count": 844,
   "metadata": {
    "collapsed": false
   },
   "outputs": [
    {
     "data": {
      "text/plain": [
       "8"
      ]
     },
     "execution_count": 844,
     "metadata": {},
     "output_type": "execute_result"
    }
   ],
   "source": [
    "juice = players[0].find_all('td')\n",
    "len(juice)"
   ]
  },
  {
   "cell_type": "code",
   "execution_count": 845,
   "metadata": {
    "collapsed": false
   },
   "outputs": [
    {
     "name": "stdout",
     "output_type": "stream",
     "text": [
      "Anderson, Josh\n",
      "33\n",
      "RB\n",
      "5110\n",
      "250\n",
      "SR\n",
      "South Paulding\n",
      "Douglasville, Ga.\n"
     ]
    }
   ],
   "source": [
    "for i in juice:\n",
    "    print i.find(text=True)"
   ]
  },
  {
   "cell_type": "code",
   "execution_count": 846,
   "metadata": {
    "collapsed": false
   },
   "outputs": [],
   "source": [
    "A = []\n",
    "B = []\n",
    "C = []\n",
    "D = []\n",
    "E = []\n",
    "F = []\n",
    "G = []\n",
    "H = []\n",
    "\n",
    "for player in players:\n",
    "    stats = player.find_all('td')\n",
    "    A.append(stats[0].find(text=True))\n",
    "    B.append(stats[1].find(text=True))\n",
    "    C.append(stats[2].find(text=True))\n",
    "    D.append(stats[3].find(text=True))\n",
    "    E.append(stats[4].find(text=True))\n",
    "    F.append(stats[5].find(text=True))\n",
    "    G.append(stats[6].find(text=True))\n",
    "    H.append(stats[7].find(text=True))"
   ]
  },
  {
   "cell_type": "code",
   "execution_count": 847,
   "metadata": {
    "collapsed": false
   },
   "outputs": [],
   "source": [
    "df = pd.DataFrame(A,columns=['Name'])\n",
    "df['Number'] = B\n",
    "df['Position'] = C\n",
    "df['Height'] = D\n",
    "df['Weight'] = E\n",
    "df['Class'] = F\n",
    "df['High School/JUCO'] = G\n",
    "df['Hometown'] = H"
   ]
  },
  {
   "cell_type": "code",
   "execution_count": 848,
   "metadata": {
    "collapsed": false
   },
   "outputs": [],
   "source": [
    "df.to_csv('roster.csv',index=False,encoding='utf-8')"
   ]
  },
  {
   "cell_type": "code",
   "execution_count": null,
   "metadata": {
    "collapsed": true
   },
   "outputs": [],
   "source": []
  }
 ],
 "metadata": {
  "kernelspec": {
   "display_name": "Python 2",
   "language": "python",
   "name": "python2"
  },
  "language_info": {
   "codemirror_mode": {
    "name": "ipython",
    "version": 2
   },
   "file_extension": ".py",
   "mimetype": "text/x-python",
   "name": "python",
   "nbconvert_exporter": "python",
   "pygments_lexer": "ipython2",
   "version": "2.7.12"
  }
 },
 "nbformat": 4,
 "nbformat_minor": 0
}

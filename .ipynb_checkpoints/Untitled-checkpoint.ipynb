{
 "cells": [
  {
   "cell_type": "code",
   "execution_count": 92,
   "metadata": {
    "collapsed": false
   },
   "outputs": [
    {
     "data": {
      "text/html": [
       "<div>\n",
       "<table border=\"1\" class=\"dataframe\">\n",
       "  <thead>\n",
       "    <tr style=\"text-align: right;\">\n",
       "      <th></th>\n",
       "      <th>Class</th>\n",
       "      <th>Height</th>\n",
       "      <th>Hometown</th>\n",
       "      <th>Name</th>\n",
       "      <th>Number</th>\n",
       "      <th>Position</th>\n",
       "      <th>Weight</th>\n",
       "    </tr>\n",
       "  </thead>\n",
       "  <tbody>\n",
       "    <tr>\n",
       "      <th>0</th>\n",
       "      <td>FR</td>\n",
       "      <td>6000.0</td>\n",
       "      <td>Mountain View, CA</td>\n",
       "      <td>Matt Keeth</td>\n",
       "      <td>NaN</td>\n",
       "      <td>PK</td>\n",
       "      <td>165.0</td>\n",
       "    </tr>\n",
       "    <tr>\n",
       "      <th>1</th>\n",
       "      <td>FR</td>\n",
       "      <td>6050.0</td>\n",
       "      <td>Woodinville, WA</td>\n",
       "      <td>Michael Roth</td>\n",
       "      <td>NaN</td>\n",
       "      <td>WR</td>\n",
       "      <td>185.0</td>\n",
       "    </tr>\n",
       "    <tr>\n",
       "      <th>2</th>\n",
       "      <td>SR</td>\n",
       "      <td>6020.0</td>\n",
       "      <td>Bakersfield, CA</td>\n",
       "      <td>B.J. Nard</td>\n",
       "      <td>1.0</td>\n",
       "      <td>DB</td>\n",
       "      <td>212.0</td>\n",
       "    </tr>\n",
       "    <tr>\n",
       "      <th>3</th>\n",
       "      <td>SR</td>\n",
       "      <td>6000.0</td>\n",
       "      <td>Hercules, CA</td>\n",
       "      <td>Jerek Rosales</td>\n",
       "      <td>2.0</td>\n",
       "      <td>DB</td>\n",
       "      <td>188.0</td>\n",
       "    </tr>\n",
       "    <tr>\n",
       "      <th>4</th>\n",
       "      <td>SR</td>\n",
       "      <td>6010.0</td>\n",
       "      <td>El Cerrito, CA</td>\n",
       "      <td>Kevin Griffin</td>\n",
       "      <td>3.0</td>\n",
       "      <td>DB</td>\n",
       "      <td>190.0</td>\n",
       "    </tr>\n",
       "  </tbody>\n",
       "</table>\n",
       "</div>"
      ],
      "text/plain": [
       "  Class  Height           Hometown           Name  Number Position  Weight\n",
       "0    FR  6000.0  Mountain View, CA     Matt Keeth     NaN       PK   165.0\n",
       "1    FR  6050.0    Woodinville, WA   Michael Roth     NaN       WR   185.0\n",
       "2    SR  6020.0    Bakersfield, CA      B.J. Nard     1.0       DB   212.0\n",
       "3    SR  6000.0       Hercules, CA  Jerek Rosales     2.0       DB   188.0\n",
       "4    SR  6010.0     El Cerrito, CA  Kevin Griffin     3.0       DB   190.0"
      ]
     },
     "execution_count": 92,
     "metadata": {},
     "output_type": "execute_result"
    }
   ],
   "source": [
    "import pandas as pd\n",
    "from pathlib2 import Path\n",
    "import glob\n",
    "\n",
    "path_fbs = 'DIV1FCS_2017/*/*.csv'\n",
    "path_fcs = 'DIV1FBS_2017/*/*.csv'\n",
    "fbs = glob.glob(path_fbs)\n",
    "fcs = glob.glob(path_fcs)\n",
    "\n",
    "frame = pd.DataFrame()\n",
    "list_ = []\n",
    "\n",
    "for fname in fbs:\n",
    "    df = pd.read_csv(fname,index_col=None,header=0)\n",
    "    list_.append(df)\n",
    "    \n",
    "for fname in fcs:\n",
    "    df = pd.read_csv(fname,index_col=None,header=0)\n",
    "    list_.append(df)\n",
    "\n",
    "frame = pd.concat(list_)\n",
    "frame = frame.drop('High School/JUCO',axis=1)\n",
    "frame[['Number','Height','Weight']] = frame[['Number','Height','Weight']].apply(pd.to_numeric,errors='coerce')\n",
    "frame.head()"
   ]
  },
  {
   "cell_type": "code",
   "execution_count": null,
   "metadata": {
    "collapsed": true
   },
   "outputs": [],
   "source": []
  }
 ],
 "metadata": {
  "kernelspec": {
   "display_name": "Python 2",
   "language": "python",
   "name": "python2"
  },
  "language_info": {
   "codemirror_mode": {
    "name": "ipython",
    "version": 2
   },
   "file_extension": ".py",
   "mimetype": "text/x-python",
   "name": "python",
   "nbconvert_exporter": "python",
   "pygments_lexer": "ipython2",
   "version": "2.7.12"
  }
 },
 "nbformat": 4,
 "nbformat_minor": 0
}

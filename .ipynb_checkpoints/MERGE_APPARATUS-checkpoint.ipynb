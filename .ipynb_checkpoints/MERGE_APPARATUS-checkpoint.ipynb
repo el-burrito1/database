{
 "cells": [
  {
   "cell_type": "code",
   "execution_count": 79,
   "metadata": {
    "collapsed": true
   },
   "outputs": [],
   "source": [
    "from pathlib2 import Path\n",
    "\n",
    "import pandas as pd"
   ]
  },
  {
   "cell_type": "code",
   "execution_count": 80,
   "metadata": {
    "collapsed": true
   },
   "outputs": [],
   "source": [
    "#1) Import filepath 'DVOA_seasons' from directory. Label as 'p'. \n",
    "\n",
    "p = Path('DVOA_seasons')"
   ]
  },
  {
   "cell_type": "code",
   "execution_count": 81,
   "metadata": {
    "collapsed": false
   },
   "outputs": [],
   "source": [
    "#2) Create dictionary 'dfs'. Create loop to add content from filepath 'p' into dictionary 'dfs'. \n",
    "\n",
    "dfs = dict()\n",
    "\n",
    "for directory in p.glob(\"*\"):\n",
    "    year = str(directory).split('/')[-1]\n",
    "    dfs[year] = dict()    \n",
    "    subpath = p / year\n",
    "    filenames = subpath.glob(\"week*.csv\")\n",
    "    for filename in filenames:\n",
    "        week = str(filename).split('.')[0].split('_')[-1]\n",
    "        week = int(week) + 1\n",
    "        df = pd.read_csv(str(filename), sep='\\t', encoding=\"utf-16\")\n",
    "        dfs[year][week] = df    "
   ]
  },
  {
   "cell_type": "code",
   "execution_count": 82,
   "metadata": {
    "collapsed": false
   },
   "outputs": [
    {
     "name": "stdout",
     "output_type": "stream",
     "text": [
      "0    34.0%\n",
      "Name: Total DVOA, dtype: object\n"
     ]
    }
   ],
   "source": [
    "#3) Confirm content from filepath 'p' has been added to dictionary 'dfs'. \n",
    "\n",
    "print dfs['2015'][17][df[\"Team\"]==\"ARI\"][\"Total DVOA\"]\n",
    "#print dfs['2015'][16]\n"
   ]
  },
  {
   "cell_type": "code",
   "execution_count": 83,
   "metadata": {
    "collapsed": false
   },
   "outputs": [
    {
     "name": "stdout",
     "output_type": "stream",
     "text": [
      "3328\n"
     ]
    }
   ],
   "source": [
    "#4) Read 'TRIN-starter'.csv file into dataframe 'master'. Apply dateparse function to 'Date' column of dataframe 'master'. \n",
    "\n",
    "filename = 'TRIN_starter.csv'\n",
    "master = pd.read_csv(filename)\n",
    "\n",
    "dateparse = lambda x: pd.datetime.strptime(x, '%m/%d/%y %H:%M')\n",
    "master['Date'] = master['Date'].apply(dateparse)\n",
    "master = master[master['Week'] != 'PL']\n",
    "print len(master)"
   ]
  },
  {
   "cell_type": "code",
   "execution_count": 84,
   "metadata": {
    "collapsed": true
   },
   "outputs": [],
   "source": [
    "#5) Create columns for dataframe 'master'. \n",
    "\n",
    "home_DVOAs = []\n",
    "home_DVOAs_weighted = []\n",
    "visitor_DVOAs = []\n",
    "visitor_DVOAs_weighted = []\n",
    "home_defensive_DVOAs_weighted = []\n",
    "visitor_defensive_DVOAs_weighted = []"
   ]
  },
  {
   "cell_type": "code",
   "execution_count": 85,
   "metadata": {
    "collapsed": false,
    "scrolled": true
   },
   "outputs": [],
   "source": [
    "#6) Create loop that populates 'home_DVOA' values from dictionary 'dfs' into dataframe 'master'.\n",
    "\n",
    "for i, row in master.iterrows():\n",
    "    year = row[\"Date\"].year\n",
    "    home = row[\"Home Team\"]\n",
    "    week = int(row[\"Week\"])\n",
    "    \n",
    "    try:\n",
    "        home_DVOA = dfs[str(year)][week][df[\"Team\"]==home][\"Total DVOA\"]\n",
    "        home_DVOA = home_DVOA.iloc[0]\n",
    "        home_DVOA = str(home_DVOA).replace(\"%\",\"\")\n",
    "        home_DVOA = home_DVOA.strip()\n",
    "        home_DVOAs.append(float(home_DVOA))\n",
    "    except KeyError:\n",
    "        home_DVOA = 'NA'\n",
    "        home_DVOAs.append(home_DVOA)\n",
    "        \n",
    "master[\"home_DVOA\"] = home_DVOAs"
   ]
  },
  {
   "cell_type": "code",
   "execution_count": 86,
   "metadata": {
    "collapsed": false
   },
   "outputs": [],
   "source": [
    "# Visitor DVOA\n",
    "\n",
    "for i, row in master.iterrows():\n",
    "    year = row[\"Date\"].year\n",
    "    visitor = row[\"Visitor Team\"]\n",
    "    week = int(row[\"Week\"])\n",
    "    \n",
    "    try:\n",
    "        visitor_DVOA = dfs[str(year)][week][df[\"Team\"]==visitor][\"Total DVOA\"]\n",
    "        visitor_DVOA = visitor_DVOA.iloc[0]\n",
    "        visitor_DVOA = str(visitor_DVOA).replace(\"%\",\"\")\n",
    "        visitor_DVOA = visitor_DVOA.strip()\n",
    "        visitor_DVOAs.append(float(visitor_DVOA))\n",
    "    except KeyError:\n",
    "        visitor_DVOA = 'NA'\n",
    "        visitor_DVOAs.append(visitor_DVOA)\n",
    "        \n",
    "master[\"visitor_DVOA\"] = visitor_DVOAs"
   ]
  },
  {
   "cell_type": "code",
   "execution_count": 87,
   "metadata": {
    "collapsed": false
   },
   "outputs": [],
   "source": [
    "#7) Create loop that populates 'home_DVOA_weighted' values from dictionary 'dfs' into dataframe 'master'.\n",
    "\n",
    "for i, row in master.iterrows():\n",
    "    year = row[\"Date\"].year\n",
    "    home = row[\"Home Team\"]\n",
    "    week = int(row[\"Week\"])\n",
    "    try:\n",
    "        home_DVOA_weighted = dfs[str(year)][week][df[\"Team\"]==home][\"Weighted DVOA\"]\n",
    "        home_DVOA_weighted = home_DVOA_weighted.iloc[0]\n",
    "        home_DVOA_weighted = str(home_DVOA_weighted).replace(\"%\",\"\")\n",
    "        home_DVOA_weighted = home_DVOA_weighted.strip()\n",
    "        home_DVOAs_weighted.append(float(home_DVOA_weighted))\n",
    "    except KeyError:\n",
    "        home_DVOA_weighted = 'NA'\n",
    "        home_DVOAs_weighted.append(home_DVOA_weighted)\n",
    "        \n",
    "master[\"home_DVOA_weighted\"] = home_DVOAs_weighted"
   ]
  },
  {
   "cell_type": "code",
   "execution_count": 88,
   "metadata": {
    "collapsed": true
   },
   "outputs": [],
   "source": [
    "for i, row in master.iterrows():\n",
    "    year = row[\"Date\"].year\n",
    "    visitor = row[\"Visitor Team\"]\n",
    "    week = int(row[\"Week\"])\n",
    "    try:\n",
    "        visitor_DVOA_weighted = dfs[str(year)][week][df[\"Team\"]==visitor][\"Weighted DVOA\"]\n",
    "        visitor_DVOA_weighted = visitor_DVOA_weighted.iloc[0]\n",
    "        visitor_DVOA_weighted = str(visitor_DVOA_weighted).replace(\"%\",\"\")\n",
    "        visitor_DVOA_weighted = visitor_DVOA_weighted.strip()\n",
    "        visitor_DVOAs_weighted.append(float(visitor_DVOA_weighted))\n",
    "    except KeyError:\n",
    "        visitor_DVOA_weighted = 'NA'\n",
    "        visitor_DVOAs_weighted.append(visitor_DVOA_weighted)\n",
    "        \n",
    "master[\"visitor_DVOA_weighted\"] = visitor_DVOAs_weighted"
   ]
  },
  {
   "cell_type": "code",
   "execution_count": 89,
   "metadata": {
    "collapsed": false
   },
   "outputs": [],
   "source": [
    "for i, row in master.iterrows():\n",
    "    year = row[\"Date\"].year\n",
    "    home = row[\"Home Team\"]\n",
    "    week = int(row[\"Week\"])\n",
    "    try:\n",
    "        home_defensive_DVOA_weighted = dfs[str(year)][week][df[\"Team\"]==home][\"Weighted Defense DVOA\"]\n",
    "        home_defensive_DVOA_weighted = home_defensive_DVOA_weighted.iloc[0]\n",
    "        home_defensive_DVOA_weighted = str(home_defensive_DVOA_weighted).replace(\"%\",\"\")\n",
    "        home_defensive_DVOA_weighted = home_defensive_DVOA_weighted.strip()\n",
    "        home_defensive_DVOAs_weighted.append(float(home_defensive_DVOA_weighted))\n",
    "    except KeyError:\n",
    "        home_defensive_DVOA_weighted = 'NA'\n",
    "        home_defensive_DVOAs_weighted.append(home_defensive_DVOA_weighted)\n",
    "        \n",
    "master[\"home_defensive_DVOA_weighted\"] = home_defensive_DVOAs_weighted"
   ]
  },
  {
   "cell_type": "code",
   "execution_count": 90,
   "metadata": {
    "collapsed": true
   },
   "outputs": [],
   "source": [
    "for i, row in master.iterrows():\n",
    "    year = row[\"Date\"].year\n",
    "    home = row[\"Visitor Team\"]\n",
    "    week = int(row[\"Week\"])\n",
    "    try:\n",
    "        visitor_defensive_DVOA_weighted = dfs[str(year)][week][df[\"Team\"]==home][\"Weighted Defense DVOA\"]\n",
    "        visitor_defensive_DVOA_weighted = visitor_defensive_DVOA_weighted.iloc[0]\n",
    "        visitor_defensive_DVOA_weighted = str(visitor_defensive_DVOA_weighted).replace(\"%\",\"\")\n",
    "        visitor_defensive_DVOA_weighted = visitor_defensive_DVOA_weighted.strip()\n",
    "        visitor_defensive_DVOAs_weighted.append(float(visitor_defensive_DVOA_weighted))\n",
    "    except KeyError:\n",
    "        visitor_defensive_DVOA_weighted = 'NA'\n",
    "        visitor_defensive_DVOAs_weighted.append(visitor_defensive_DVOA_weighted)\n",
    "        \n",
    "master[\"visitor_defensive_DVOA_weighted\"] = visitor_defensive_DVOAs_weighted"
   ]
  },
  {
   "cell_type": "code",
   "execution_count": 91,
   "metadata": {
    "collapsed": false
   },
   "outputs": [],
   "source": [
    "#23) Read out dateframe 'master' as 'TRIN_STATS'.csv. \n",
    "\n",
    "master.to_csv('TRIN_STATS.csv')"
   ]
  },
  {
   "cell_type": "code",
   "execution_count": null,
   "metadata": {
    "collapsed": true
   },
   "outputs": [],
   "source": []
  }
 ],
 "metadata": {
  "kernelspec": {
   "display_name": "Python 2",
   "language": "python",
   "name": "python2"
  },
  "language_info": {
   "codemirror_mode": {
    "name": "ipython",
    "version": 2
   },
   "file_extension": ".py",
   "mimetype": "text/x-python",
   "name": "python",
   "nbconvert_exporter": "python",
   "pygments_lexer": "ipython2",
   "version": "2.7.12"
  }
 },
 "nbformat": 4,
 "nbformat_minor": 0
}
